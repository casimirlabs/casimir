{
 "cells": [
  {
   "cell_type": "markdown",
   "metadata": {},
   "source": [
    "# Check Consensus Nodes"
   ]
  },
  {
   "cell_type": "code",
   "execution_count": 3,
   "metadata": {},
   "outputs": [
    {
     "name": "stdout",
     "output_type": "stream",
     "text": [
      "Casimir goerli consensus node is syncing. Current slot: 5943238. Highest slot: 6662784\n"
     ]
    }
   ],
   "source": [
    "import json\n",
    "import boto3\n",
    "import requests\n",
    "from requests.auth import HTTPBasicAuth\n",
    "\n",
    "networks = {\n",
    "    \"goerli\": {\n",
    "        \"requires_auth\": True\n",
    "    }\n",
    "}\n",
    "\n",
    "for network, requires_auth in networks.items():\n",
    "    \n",
    "    url = f\"https://nodes.casimir.co/eth/{network}/eth/v1/node/syncing\"\n",
    "\n",
    "    headers = {'content-type': 'application/json'}\n",
    "\n",
    "    auth = None\n",
    "    if requires_auth:\n",
    "        client = boto3.client('secretsmanager')\n",
    "        response = client.get_secret_value(SecretId='casimir-rpc-credentials')\n",
    "        secret = json.loads(response['SecretString'])\n",
    "        auth = HTTPBasicAuth(secret['username'], secret['password'])\n",
    "\n",
    "    response = requests.get(url, headers=headers, auth=auth)\n",
    "\n",
    "    if response.status_code != 200:\n",
    "        print(f\"Casimir {network} consensus node is not responding\")\n",
    "    else:        \n",
    "        data = response.json()['data']\n",
    "        if bool(data['is_syncing']) == False:\n",
    "            print(f\"Casimir {network} consensus node is fully synced\")\n",
    "        else:\n",
    "            print(f\"Casimir {network} consensus node is syncing. Current slot: {int(data['head_slot'])}. Highest slot: {int(data['head_slot']) + int(data['sync_distance'])}\")\n",
    "        \n",
    "\n"
   ]
  }
 ],
 "metadata": {
  "kernelspec": {
   "display_name": "casimir-data",
   "language": "python",
   "name": "casimir-data"
  },
  "language_info": {
   "codemirror_mode": {
    "name": "ipython",
    "version": 3
   },
   "file_extension": ".py",
   "mimetype": "text/x-python",
   "name": "python",
   "nbconvert_exporter": "python",
   "pygments_lexer": "ipython3",
   "version": "3.9.17"
  },
  "orig_nbformat": 4
 },
 "nbformat": 4,
 "nbformat_minor": 2
}
