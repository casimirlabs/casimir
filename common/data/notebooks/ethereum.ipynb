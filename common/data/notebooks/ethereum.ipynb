{
 "cells": [
  {
   "cell_type": "markdown",
   "metadata": {},
   "source": [
    "# Check Casimir RPC nodes\n",
    "\n",
    "Edit `NETWORK` to select the network to check. "
   ]
  },
  {
   "cell_type": "code",
   "execution_count": 9,
   "metadata": {},
   "outputs": [
    {
     "name": "stdout",
     "output_type": "stream",
     "text": [
      "Casimir goerli node is fully synced\n"
     ]
    }
   ],
   "source": [
    "import json\n",
    "import boto3\n",
    "import requests\n",
    "from requests.auth import HTTPBasicAuth\n",
    "\n",
    "NETWORK = \"goerli\"\n",
    "\n",
    "if NETWORK not in [\"mainnet\", \"goerli\", \"hardhat\"]:\n",
    "    raise ValueError(f\"Invalid network: {NETWORK}\")\n",
    "\n",
    "url = f\"https://nodes.casimir.co/eth/{NETWORK}\"\n",
    "\n",
    "headers = {'content-type': 'application/json'}\n",
    "payload = {\n",
    "    \"method\": \"eth_syncing\",\n",
    "    \"params\": [],\n",
    "    \"jsonrpc\": \"2.0\",\n",
    "    \"id\": 0,\n",
    "}\n",
    "auth = None\n",
    "\n",
    "if NETWORK in [\"mainnet\", \"goerli\"]:\n",
    "    client = boto3.client('secretsmanager')\n",
    "    response = client.get_secret_value(SecretId='casimir-rpc-credentials')\n",
    "    secret = json.loads(response['SecretString'])\n",
    "    auth = HTTPBasicAuth(secret['username'], secret['password'])\n",
    "\n",
    "response = requests.post(url, data=json.dumps(payload), headers=headers, auth=auth)\n",
    "data = response.json()\n",
    "\n",
    "if data['result'] == False:\n",
    "    print(f\"Casimir {NETWORK} node is fully synced\")\n",
    "else:\n",
    "    print(f\"Casimir {NETWORK} node is syncing. Current block: {data['result']['currentBlock']}, Highest block: {data['result']['highestBlock']}\")\n",
    "\n"
   ]
  }
 ],
 "metadata": {
  "kernelspec": {
   "display_name": "casimir-data",
   "language": "python",
   "name": "casimir-data"
  },
  "language_info": {
   "codemirror_mode": {
    "name": "ipython",
    "version": 3
   },
   "file_extension": ".py",
   "mimetype": "text/x-python",
   "name": "python",
   "nbconvert_exporter": "python",
   "pygments_lexer": "ipython3",
   "version": "3.9.17"
  },
  "orig_nbformat": 4
 },
 "nbformat": 4,
 "nbformat_minor": 2
}
